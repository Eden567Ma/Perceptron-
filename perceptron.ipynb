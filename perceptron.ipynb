{
 "cells": [
  {
   "cell_type": "markdown",
   "metadata": {},
   "source": [
    "IA & Data science (LU3IN0226) -- 2022-2023\n",
    "--------\n",
    "*&copy; Equipe pédagogique: Christophe Marsala, Olivier Schwander, Jean-Noël Vittaut.*"
   ]
  },
  {
   "cell_type": "markdown",
   "metadata": {},
   "source": [
    "#  Semaine 3 : algorithme du perceptron de Rosenblatt"
   ]
  },
  {
   "cell_type": "markdown",
   "metadata": {},
   "source": [
    "<font size=\"+1\" color=\"RED\">**[Q]**</font> **Indiquer dans la boîte ci-dessous vos noms et prénoms :**"
   ]
  },
  {
   "cell_type": "markdown",
   "metadata": {},
   "source": [
    "*OUAKED*"
   ]
  },
  {
   "cell_type": "markdown",
   "metadata": {},
   "source": [
    "<font color=\"RED\" size=\"+1\">**[Q]**</font> **Renommer ce fichier ipython**\n",
    "\n",
    "Tout en haut de cette page, cliquer sur <tt>tme-03</tt> et rajouter à la suite de <tt>tme-03</tt> les noms des membres du binômes séparés par un tiret."
   ]
  },
  {
   "cell_type": "markdown",
   "metadata": {},
   "source": [
    "<font color=\"RED\" size=\"+1\">IMPORTANT: soumission de votre fichier final</font>\n",
    "\n",
    "**Nom à donner au fichier à poster** : *tme-03-Nom1_Nom2.ipynb* \n",
    "- *Nom1* et *Nom2* : noms des membres du binôme\n",
    "- ne pas compresser ou faire une archive: il faut rendre le fichier ipython tel quel, éventuellement, si vous avez d'autres fichiers vous les rendez séparément.\n",
    "\n",
    "**Echancier pour la soumission de votre compte-rendu:**\n",
    "- le compte-rendu d'une séance doit être remis obligatoirement <font color=\"RED\">avant la séance suivante</font>.\n",
    "\n",
    "**Le compte-rendu est soumis sur la page Moodle.**"
   ]
  },
  {
   "cell_type": "markdown",
   "metadata": {},
   "source": [
    "Les imports suivants seront généralement nécessaires:"
   ]
  },
  {
   "cell_type": "code",
   "execution_count": 1,
   "metadata": {},
   "outputs": [],
   "source": [
    "import numpy as np\n",
    "import pandas as pd\n",
    "from datetime import datetime as dt\n",
    "import matplotlib.pyplot as plt\n",
    "%matplotlib inline  \n",
    "\n",
    "# Les instructions suivantes sont TRES utile pour recharger automatiquement \n",
    "# le code modifié dans les librairies externes\n",
    "%load_ext autoreload\n",
    "%autoreload 2"
   ]
  },
  {
   "cell_type": "markdown",
   "metadata": {},
   "source": [
    "## Retour sur le sujet du TME 2"
   ]
  },
  {
   "cell_type": "code",
   "execution_count": 2,
   "metadata": {},
   "outputs": [],
   "source": [
    "\n",
    "def genere_dataset_uniform(p, n, binf=-1, bsup=1):\n",
    "    descriptions = np.random.uniform(binf, bsup, (n,p))\n",
    "    labels = np.asarray([-1 for i in range(0,n//2)] + [+1 for i in range(0,n//2)])\n",
    "    return descriptions, labels\n",
    "\n",
    "\n",
    "\n",
    "def genere_dataset_gaussian(positive_center, positive_sigma, negative_center, negative_sigma, nb_points):\n",
    "    \n",
    "    # On tire aléatoirement tous les exemples des classes -1 et +1\n",
    "    negative_desc = np.random.multivariate_normal(negative_center, negative_sigma, nb_points)\n",
    "    positive_desc = np.random.multivariate_normal(positive_center, positive_sigma, nb_points)\n",
    "    descriptions = np.vstack((negative_desc, positive_desc))\n",
    "    labels = np.asarray([-1 for i in range(nb_points)] + [+1 for i in range(nb_points)])\n",
    "\n",
    "    return descriptions, labels\n",
    "\n",
    "def plot2DSet(desc,labels):  \n",
    "    first = desc[labels == -1]\n",
    "    second = desc[labels == 1]\n",
    "    plt.scatter(first[:,0],first[:,1],marker='o', color=\"red\") # 'o' rouge pour la classe -1\n",
    "    plt.scatter(second[:,0],second[:,1],marker='x', color=\"green\") # 'x' bleu pour la classe +1\n",
    "    plt.show()\n",
    "    \n",
    "def plot_frontiere(desc_set, label_set, classifier, step=30):\n",
    "    \"\"\" desc_set * label_set * Classifier * int -> NoneType\n",
    "        Remarque: le 4e argument est optionnel et donne la \"résolution\" du tracé\n",
    "        affiche la frontière de décision associée au classifieur\n",
    "    \"\"\"\n",
    "    mmax=desc_set.max(0)\n",
    "    mmin=desc_set.min(0)\n",
    "    x1grid,x2grid=np.meshgrid(np.linspace(mmin[0],mmax[0],step),np.linspace(mmin[1],mmax[1],step))\n",
    "    grid=np.hstack((x1grid.reshape(x1grid.size,1),x2grid.reshape(x2grid.size,1)))\n",
    "    \n",
    "    # calcul de la prediction pour chaque point de la grille\n",
    "    res=np.array([classifier.predict(grid[i,:]) for i in range(len(grid)) ])\n",
    "    res=res.reshape(x1grid.shape)\n",
    "    # tracer des frontieres\n",
    "    plt.contourf(x1grid,x2grid,res,colors=[\"red\",\"cyan\"],levels=[-1000,0,1000])\n",
    "\n",
    "\n",
    "\n"
   ]
  },
  {
   "cell_type": "code",
   "execution_count": 3,
   "metadata": {},
   "outputs": [
    {
     "name": "stdout",
     "output_type": "stream",
     "text": [
      "Taille du dataset généré : (200, 2) exemples\n",
      "Les 5 premiers exemples :\n",
      "<class 'numpy.ndarray'> \n",
      " [[-0.00328585 -1.1382643 ]\n",
      " [ 0.14768854  0.52302986]\n",
      " [-0.73415337 -1.23413696]\n",
      " [ 1.07921282 -0.23256527]\n",
      " [-0.96947439 -0.45743996]]\n"
     ]
    },
    {
     "data": {
      "image/png": "[encoded data removed]",
      "text/plain": [
       "<Figure size 432x288 with 1 Axes>"
      ]
     },
     "metadata": {
      "needs_background": "light"
     },
     "output_type": "display_data"
    }
   ],
   "source": [
    "# Exemple d'utilisation:\n",
    "np.random.seed(42)   # on prend 42 comme graine\n",
    "\n",
    "# On génère un dataset de 200 exemples en dimension 2:\n",
    "data_gauss_desc, data_gauss_label = genere_dataset_gaussian(np.array([1,1]),np.array([[1,0],[0,1]]),np.array([-0.5,-1]),np.array([[1,0],[0,1]]),100)\n",
    "\n",
    "print(\"Taille du dataset généré :\", np.shape(data_gauss_desc), \"exemples\")\n",
    "\n",
    "print(\"Les 5 premiers exemples :\")\n",
    "print(type(data_gauss_desc), '\\n', data_gauss_desc[0:5,:])\n",
    "\n",
    "# Affichage des exemples générés:\n",
    "plot2DSet(data_gauss_desc, data_gauss_label)"
   ]
  },
  {
   "cell_type": "markdown",
   "metadata": {},
   "source": [
    "## Evaluation d'un algorithme d'apprentissage\n",
    "\n",
    "Un algorithme d'apprentissage permet de construire ou mettre au point un modèle de prédiction qui pourra donner (on dit aussi prédire), pour tout nouvel exemple, le label à associer à cet exemple.\n",
    "Si on connaît par ailleurs le vrai label de l'exemple, le label trouvé par le modèle est comparé à ce vrai label et on peut donc déterminer si le modèle s'est trompé ou s'il a raison.\n",
    "\n",
    "Soit $f$ un modèle. Etant donné un ensemble $\\bf X$ contenant $n$ exemples, et $Y$ l'ensemble des labels associés à ces exemples, tels que pour tout $\\bf x_i \\in \\bf X$, $y_i$ est le label correspondant.\n",
    "\n",
    "Un exemple $\\bf x_i$ tel que $f(\\bf x_i) = y_i$ est dit *bien classé par $f$*.\n",
    "Un exemple $\\bf x_i$ tel que $f(\\bf x_i) \\not= y_i$ est dit *mal classé par $f$*.\n",
    "\n",
    "#### Taux de bonne classification\n",
    "Le **taux de bonne classification** (ou *accuracy*) obtenu par $f$ pour les données de l'ensemble $\\bf X$ est: \n",
    "$$\\frac{n_{bc}}{n}$$\n",
    "\n",
    "avec $n_{bc}$ le nombre d'exemples $\\bf x_i$ de $\\bf X$ bien classés par $f$, c'est-à-dire pour lesquels $f(\\bf x_i) = y_i$.\n",
    "\n",
    "\n",
    "#### Performance d'un modèle\n",
    "Un modèle appris grâce à un algorithme d'apprentissage peut être évalué sur 2 aspects:\n",
    "- sa capacité à rendre compte des données qui ont servi à le mettre au point : on évalue cela en mesurant son taux de bonne classification (ou *accuracy*) sur des données d'apprentissage.\n",
    "- sa capacité à **généraliser** ce qu'il a appris sur des données qu'il ne connaît pas : on évalue cela en mesurant son taux de bonne classification (ou *accuracy*)  sur des données différentes de celles utilisées en apprentissage, on parle de **données test**.\n",
    "\n",
    "Ainsi, un modèle appris qui est très performant sur les données d'apprentissage, mais qui a performances très faibles en prédiction sur d'autres données n'est souvent pas très intéressant. La capacité de généraliser est ce que l'on recherche en premier lieu pour un bon modèle.\n",
    "\n",
    "#### Ensemble d'apprentissage et ensemble de test\n",
    "Pour évaluer un modèle appris $f$, on a donc besoin de 2 ensembles d'exemples pour lesquels on connaît le label:\n",
    "- la **base d'apprentissage** (ou *training set*): il est composé d'un ensemble d'exemples $\\bf X$ associé à un ensemble de labels correspondant $Y$. La base d'apprentissage est l'ensemble que l'on utilise pour mettre au point le modèle lors de la phase *train*.\n",
    "    - pour le knn, la base d'apprentissage correspond à l'ensemble que l'on mémorise.\n",
    "    - pour le perceptron, la base d'apprentissage est utilisée pour trouver le bon paramétrage du modèle.\n",
    "- la **base de test** (ou *test set*): il est composé d'un ensemble d'exemples $\\bf X_t$ associé à un ensemble de labels correspondant $Y_t$. Les exemples de la base de test ne sont pas utilisés durant la phase d'apprentissage. Ces exemples ne sont utilisés que pour calculer un taux de bonne classification du modèle.\n",
    "\n",
    "#### Evaluation d'un modèle\n",
    "Pour évaluer correctement un modèle, on doit fournir 2 taux de bonne classification(ou *accuracy*) :\n",
    "- le taux de bonne classification sur la base d'apprentissage;\n",
    "- le taux de bonne classification sur une base de test.\n"
   ]
  },
  {
   "cell_type": "markdown",
   "metadata": {},
   "source": [
    "## Construction d'une base d'apprentissage et d'une base de test\n",
    "\n",
    "Dans la pratique, on possède généralement une seule base d'exemples (cf. données USPS du TME 2) à partir de laquelle on construit les 2 bases nécessaires.\n",
    "Soit $\\bf X$ un ensemble de $n$ exemples et $Y$ l'ensemble des labels associés (ie. tout $\\bf x_i \\in \\bf X$ a pour label $y_i \\in Y$, pour $i=1,.., n$).\n",
    "\n",
    "- la base d'apprentissage $(\\bf X_{train}, Y_{train})$ est construite en sélectionnant aléatoirement $n_+$ exemples de label $+1$ et $n_-$ exemples de labels $-1$ (généralement $n_+ = n_-$).\n",
    "- la base de test $(\\bf X_{test}, Y_{test})$ est construire en prenant tous les exemples de $\\bf X$ qui n'ont pas été sélectionnés dans $\\bf X_{train}$.\n",
    "\n",
    "\n",
    "<font color=\"RED\" size=\"+1\">**[Q]**</font>  Ecrire la fonction `genere_train_test` qui, étant donné deux `ndarray`, un donnant des descriptions et l'autre les labels correspondants, rend 2 tuples:\n",
    "- le premier tuple correspond à la base d'apprentissage $(\\bf X_{train}, Y_{train})$\n",
    "- le deuxième tuple correspond à la base de test $(\\bf X_{test}, Y_{test})$\n",
    "\n",
    "Pour écrire cette fonction, on peut utiliser la fonction `random.sample` de la librairie `random` (attention, cette librairie contient des fonctions différentes des fonctions random de la librairie numpy que l'on a utilisé jusqu'à présent).\n",
    "La fonction `random.sample` prend 2 arguments: une liste $L$ et un entier $k$, et elle rend $k$ éléments de $L$ choisis aléatoirement (sans remise)."
   ]
  },
  {
   "cell_type": "code",
   "execution_count": 4,
   "metadata": {},
   "outputs": [
    {
     "data": {
      "text/plain": [
       "[81, 14, 3, 94, 35]"
      ]
     },
     "execution_count": 4,
     "metadata": {},
     "output_type": "execute_result"
    }
   ],
   "source": [
    "# Exemple d'utilisation de la fonction random.sample:\n",
    "\n",
    "import random\n",
    "random.seed(42)  # pour avoir les mêmes tirages\n",
    "\n",
    "# Choix aléatoire de 5 éléments de la liste:\n",
    "random.sample([j for j in range(0,100)], 5)"
   ]
  },
  {
   "cell_type": "code",
   "execution_count": 5,
   "metadata": {
    "scrolled": true
   },
   "outputs": [
    {
     "data": {
      "text/plain": [
       "array([[ 0.08685709,  1.19045563],\n",
       "       [-0.69236096, -0.69845266],\n",
       "       [-0.13860439,  0.53803657],\n",
       "       [ 1.87232064,  1.18334201],\n",
       "       [-1.176922  , -0.38832371],\n",
       "       [-0.44808434, -0.40746377],\n",
       "       [ 3.18980293,  0.19170171],\n",
       "       [ 1.06980208,  0.6146864 ],\n",
       "       [-1.97852199, -1.71984421],\n",
       "       [ 1.74729361,  1.61037027]])"
      ]
     },
     "execution_count": 5,
     "metadata": {},
     "output_type": "execute_result"
    }
   ],
   "source": [
    "# A quoi correspond le résultat de cette commande ?:\n",
    "L = random.sample([i for i in range(0,data_gauss_desc.shape[0])],10)\n",
    "data_gauss_desc[L]"
   ]
  },
  {
   "cell_type": "code",
   "execution_count": 6,
   "metadata": {},
   "outputs": [
    {
     "data": {
      "text/plain": [
       "(100, 2)"
      ]
     },
     "execution_count": 6,
     "metadata": {},
     "output_type": "execute_result"
    }
   ],
   "source": [
    "# A quoi correspond le résultat de cette commande ?:\n",
    "data_gauss_desc[data_gauss_label == -1 ].shape"
   ]
  },
  {
   "cell_type": "markdown",
   "metadata": {},
   "source": [
    "Ainsi, si la liste L contient les indices de tous les exemples d'une base d'exemples, il devient facile de sélectionner un sous-ensemble de ces exemples en tirant aléatoirement leurs indices par cette fonction."
   ]
  },
  {
   "cell_type": "code",
   "execution_count": 7,
   "metadata": {},
   "outputs": [],
   "source": [
    "\n",
    "    \"\"\" \n",
    "        permet de générer une base d'apprentissage et une base de test\n",
    "        desc_set: ndarray avec des descriptions\n",
    "        label_set: ndarray avec les labels correspondants\n",
    "        n_pos: nombre d'exemples de label +1 à mettre dans la base d'apprentissage\n",
    "        n_neg: nombre d'exemples de label -1 à mettre dans la base d'apprentissage\n",
    "        Hypothèses: \n",
    "           - desc_set et label_set ont le même nombre de lignes)\n",
    "           - n_pos et n_neg, ainsi que leur somme, sont inférieurs à n (le nombre d'exemples dans desc_set)\n",
    "    \"\"\"\n",
    "    def genere_train_test(desc_set, label_set, n_pos, n_neg):\n",
    "    # on récupère les indices des exemples positifs et négatifs\n",
    "        pos_idx = random.sample([i for i in range(len(label_set)) if label_set[i] == 1],n_pos)\n",
    "        neg_idx = random.sample([i for i in range(len(label_set)) if label_set[i] == -1],n_neg)\n",
    "        \n",
    "    # on crée les bases d'apprentissage et de test\n",
    "        Xtrain = desc_set[pos_idx]\n",
    "        Ytrain = label_set[neg_idx]\n",
    "        Xtest = desc_set[pos_idx]\n",
    "        Ytest = label_set[neg_idx]\n",
    "   \n",
    "        return (Xtrain, Ytrain), (Xtest, Ytest)\n",
    "\n",
    "\n"
   ]
  },
  {
   "cell_type": "markdown",
   "metadata": {},
   "source": [
    "<font color=\"RED\" size=\"+1\">**[Q]**</font>  Utiliser la fonction précédente pour générer une base d'apprentissage et une base de test à partir des données aléatoires gaussiennes générées plus haut. La base d'apprentissage contiendra 75 exemples de la classe +1 et 75 exemples de la classe -1."
   ]
  },
  {
   "cell_type": "code",
   "execution_count": 8,
   "metadata": {},
   "outputs": [
    {
     "name": "stdout",
     "output_type": "stream",
     "text": [
      "Base d'apprentissage:  (75, 2)  et  75  labels\n",
      "Base de test:  (75, 2)  et  75  labels\n"
     ]
    }
   ],
   "source": [
    "random.seed(42)\n",
    "(train_desc, train_label), (test_desc, test_label) = genere_train_test(data_gauss_desc, data_gauss_label,75,75)\n",
    "\n",
    "print(\"Base d'apprentissage: \",train_desc.shape, \" et \", len(train_label),\" labels\")\n",
    "print(\"Base de test: \",test_desc.shape, \" et \", len(test_label),\" labels\")"
   ]
  },
  {
   "cell_type": "markdown",
   "metadata": {},
   "source": [
    "## Perceptron de Rosenblatt\n",
    "\n",
    "De la même façon que nous avons défini des classes pour le classifieur par k-ppv et le classifieur linéaire aléatoire, nous allons maintenant définir une nouvelle classe de classifieurs pour implémenter un nouvel algorithme d'apprentissage : le **perceptron de Rosenblatt**.\n",
    "\n",
    "<div class=\"alert alert-block alert-info\">\n",
    "\n",
    "**Apprentissage d'un perceptron**<BR>\n",
    "L'apprentissage d'un perceptron consiste à partir d'une base de données étiquetées $\\mathbf X \\in \\mathbb R^{n\\times d}, \\mathbf Y\\in \\{-1,1\\}^n$ de fournir un **vecteur de paramètres** optimisés, de dimension $d$, $\\mathbf w\\in \\mathbb R^{d}$.\n",
    "\n",
    "Le perceptron est représenté par le vecteur $\\mathbf w$ et on utilise comme paramètre pour le mettre au point un *learning rate* $\\epsilon \\in [0,1]$ qui est défini à la création du classifieur (paramètre du constructeur).\n",
    "    \n",
    "En termes algorithmiques, l'apprentissage est itératif:\n",
    "1. Initialisation de $\\mathbf w$: il y a 2 façons possibles (à choisir), $\\mathbf w$ est initialisé soit comme vecteur nul (toutes ses composantes à 0), soit aléatoirement. \n",
    "    \n",
    "    *Attention, si l'initialisation est aléatoire, **les valeurs doivent être très petites** et également réparties entre valeurs positives et négatives pour ne pas biaiser l'algorithme. On pourra dans ce cas pour générer chaque composante de $\\mathbf w$: 1) générer aléatoirement une valeur $v$ dans $[0,1[$, 2) la transformer en $2v-1$ pour qu'elle soit dans $[-1,1[$, puis 3) la multiplier par un nombre réel positif petit (par exemple $0.001$) pour obtenir une valeur très petite.*\n",
    "1. Optimisation stochastique grâce à la base d'apprentissage $\\mathbf X$:\n",
    "    1. Choisir aléatoirement un exemple $\\mathbf x_i$ de $\\mathbf X$\n",
    "    1. Calculer le score $\\hat y_i$ fourni par le perceptron par $\\hat y_i = \\mathbf x_i \\cdot \\mathbf w$ en utilisant le vecteur $\\mathbf w$ courant\n",
    "        - le label associé $\\hat y_i^*$ obtenu en prenant le signe de $\\hat y_i$ correspond à la prédiction (+1 ou -1) faite par le perceptron pour $\\mathbf x_i$.\n",
    "    1. Evaluer l'erreur de prédiction pour $\\mathbf x_i$, sachant que le label à trouver doit être $y_i$ (donné dans $\\mathbf Y$). \n",
    "        1. Si *pas d'erreur*, pas de correction à faire\n",
    "        1. Si *erreur*, corriger $\\mathbf w$ par : \n",
    "        $$\\mathbf w \\leftarrow \\mathbf w + \\epsilon y_i \\mathbf x_i$$\n",
    "       \n",
    "    1. Arrêter lorsqu'il y a convergence:\n",
    "        1. Convergence = aucun ou peu de changements sur $\\mathbf w$ pendant $n$ itérations. Pour évaluer le changement, on calcule la norme de la valeur absolue de la différence terme à terme entre $w$ (vecteur avant l'étape 2) et $w'$ (vecteur après l'étape 2). Il y a convergence quand cette valeur descend en dessous d'un seuil de convergence (qui est un réel positif non nul).\n",
    "        1. Remarque : on peut fixer un nombre d'itérations maximum au bout desquelles l'algorithme doit s'arrêter pour ne pas se coincer dans une boucle infinie.\n",
    "\n",
    "**Classification / Prédiction / Inférence avec un perceptron**<BR>\n",
    "L'inférence est linéaire: \n",
    "    $$\\hat y_i =  \\mathbf x_i \\cdot \\mathbf w , \\qquad \\hat y_i^* =\\text{sign}(\\hat y_i) \\in \\{-1,1\\}$$\n",
    "   \n",
    "   $\\hat y_i$ correspond au score fourni par le perceptron (valeur réelle donc) et $y_i^*$ correspond à la prédiction (+1 ou -1).\n",
    "    \n",
    "<br/>\n",
    "<b>Remarque:</b> attention à ne pas confondre l'évaluation linéaire à valeur réelle et le signe qui permet de mettre notre estimation dans le même univers que les étiquettes d'origine.\n",
    "    \n",
    "    \n",
    "</div>    "
   ]
  },
  {
   "cell_type": "markdown",
   "metadata": {},
   "source": [
    "<font color=\"RED\" size=\"+1\">**[Q]**</font> En héritant de la classe `Classifier` (qu'il faut donc récupérer pour la mettre dans ce notebook), écrire la classe `ClassifierPerceptron` qui implémente l'algorithme du perceptron de Rosenblatt vu en cours. \n",
    "\n",
    "Lors de l'initialisation, dans la méthode `__init__`, deux paramètres seront fournis:\n",
    "- le learning_rate (`epsilon`) du perceptron (par défaut, il sera mis à $0.01$). \n",
    "- un argument booléen de nom `init` qui vaut `True` (par défaut) ou `False` et qui donne le mode souhaité d'initialisation du perceptron: soit en mettant les poids $w_1, \\ldots, w_d$ à 0 (valeur `True`), soit en les initialisant aléatoirement par des valeurs très petites (valeur `False`) comme expliqué dans le descriptif ci-dessus.\n",
    "\n",
    "Pour l'apprentissage du perceptron, on écrit les 2 fonctions suivantes.\n",
    "\n",
    "La fonction `train_step` réalise **une unique itération de tous les exemples** du dataset d'apprentissage $\\mathbf X$ en prenant ces exemples dans un ordre aléatoire (cf. shuffle expliqué ci-après). Cet ordre doit être tiré aléatoirement au moment de l'exécution de la fonction `train_step` (à chaque lancement de `train_step`, l'ordre devra donc être différent). Une fois un exemple $\\mathbf x$ choisi, on applique l'algorithme expliqué dans le cadre précédent.\n",
    "\n",
    "La fonction `train` implémente l'algorithme complet de l'apprentissage itératif du perceptron jusqu'à sa convergence (elle appelle donc la fonction `train_step`). Elle prend en argument, en plus du dataset, un entier `nb_max` qui donne le nombre d'itérations maximal à réaliser, et un réel `seuil` qui donne le seuil de convergence à atteindre. Cette fonction rend la liste des valeurs des différences rencontrées.\n",
    "\n",
    "Remarque: quelques fonctions utiles :\n",
    "- la fonction `np.zeros` qui prend en argument un entier. Par exemple, tester `np.zeros(10)`.\n",
    "- la fonction `np.random.shuffle` qui prend une liste de valeurs en arguments et la modifie (par effet de bord) en réordonnant aléatoirement les valeurs.\n",
    "- pour copier un `np.array`, il est nécessaire d'utiliser la méthode `copy()` qui réalise une copie profonde. Par exemple, `B = A.copy()` pour copier le `np.array A` dans la variable `B`."
   ]
  },
  {
   "cell_type": "markdown",
   "metadata": {},
   "source": [
    "**IMPORTANT**: dans tous les exemples ci-dessous, on utilise toujours la même graine (seed) de génération de nombres aléatoires, ceci pour vous permettre de mettre au point vos fonctions, une fois qu'elles sont mises au point, il vous faut alors réaliser des expérimentations **sans utiliser de graine**."
   ]
  },
  {
   "cell_type": "code",
   "execution_count": 9,
   "metadata": {},
   "outputs": [
    {
     "name": "stdout",
     "output_type": "stream",
     "text": [
      "Avant:  [0, 1, 2, 3, 4, 5, 6, 7, 8, 9]\n",
      "Après:  [8, 1, 5, 0, 7, 2, 9, 4, 3, 6]\n"
     ]
    }
   ],
   "source": [
    "# Par exemple :\n",
    "\n",
    "np.random.seed(42)   # on prend 42 comme graine\n",
    "\n",
    "l =[i for i in range(0,10)]\n",
    "print(\"Avant: \",l)\n",
    "np.random.shuffle(l)\n",
    "print(\"Après: \",l)"
   ]
  },
  {
   "cell_type": "code",
   "execution_count": 10,
   "metadata": {},
   "outputs": [],
   "source": [
    "# Recopier ici la classe Classifier (complète) du TME 2\n",
    "\n",
    "class Classifier:\n",
    "    \"\"\" Classe (abstraite) pour représenter un classifieur\n",
    "        Attention: cette classe est ne doit pas être instanciée.\n",
    "    \"\"\"\n",
    "    \n",
    "    \n",
    "    def __init__(self, input_dimension):\n",
    "        \"\"\" Constructeur de Classifier\n",
    "            Argument:\n",
    "                - intput_dimension (int) : dimension de la description des exemples\n",
    "            Hypothèse : input_dimension > 0\n",
    "        \"\"\"\n",
    "        self.input_dimension = input_dimension\n",
    "       \n",
    "        \n",
    "    \n",
    "        \n",
    "    \n",
    "    def score(self,x):\n",
    "        \"\"\" rend le score de prédiction sur x (valeur réelle)\n",
    "            x: une description\n",
    "        \"\"\"\n",
    "        \n",
    "    \n",
    "    def predict(self, x):\n",
    "        \"\"\" rend la prediction sur x (soit -1 ou soit +1)\n",
    "            x: une description\n",
    "        \"\"\"\n",
    "        \n",
    "    def accuracy(self, desc_set, label_set):\n",
    "    \n",
    "       # Calculer le nombre de prédictions correctes\n",
    "        self.desc_set = desc_set\n",
    "        self.label_sert = label_set \n",
    "        correct_predictions = 0\n",
    "        # Boucler sur chaque exemple dans X\n",
    "        for i, example in enumerate(desc_set):\n",
    "            # Prédire la classe pour cet exemple\n",
    "            prediction = self.predict(example)\n",
    "            # Si la prédiction est correcte, incrémenter correct_predictions\n",
    "            if prediction == label_set[i]:\n",
    "                correct_predictions += 1\n",
    "        # Calculer la précision en divisant le nombre de prédictions correctes par le nombre total d'exemples\n",
    "        accuracy = correct_predictions / len(desc_set)\n",
    "        return accuracy\n",
    "        \n"
   ]
  },
  {
   "cell_type": "code",
   "execution_count": 11,
   "metadata": {},
   "outputs": [],
   "source": [
    "\n",
    "class ClassifierPerceptron(Classifier):\n",
    "    \"\"\" Perceptron de Rosenblatt\n",
    "    \"\"\"\n",
    "    def __init__(self, input_dimension, learning_rate=0.01, init=True):\n",
    "        \"\"\" Constructeur de Classifier\n",
    "            Argument:\n",
    "                - input_dimension (int) : dimension de la description des exemples (>0)\n",
    "                - learning_rate (par défaut 0.01): epsilon\n",
    "                - init est le mode d'initialisation de w: \n",
    "                    - si True (par défaut): initialisation à 0 de w,\n",
    "                    - si False : initialisation par tirage aléatoire de valeurs petites\n",
    "        \"\"\"\n",
    "        self.input_dimension = input_dimension\n",
    "        self.learning_rate = learning_rate\n",
    "        self.init = init\n",
    "        if self.init:\n",
    "            self.w = np.zeros(input_dimension)\n",
    "        else:\n",
    "            self.w = np.random.uniform(-0.01, 0.01, input_dimension)\n",
    "\n",
    "    def train_step(self, desc_set, label_set):\n",
    "        \"\"\" Réalise une unique itération sur tous les exemples du dataset\n",
    "            donné en prenant les exemples aléatoirement.\n",
    "            Arguments:\n",
    "                - desc_set: ndarray avec des descriptions\n",
    "                - label_set: ndarray avec les labels correspondants\n",
    "        \"\"\" \n",
    "        indices = list(range(len(desc_set)))\n",
    "        random.shuffle(indices)\n",
    "        for i in indices:\n",
    "            x = desc_set[i]\n",
    "            y = label_set[i]\n",
    "            if y * np.dot(self.w, x) <= 0:\n",
    "                self.w += self.learning_rate * y * x\n",
    "\n",
    "    def train(self, desc_set, label_set, nb_max, seuil):\n",
    "        \"\"\" Apprentissage itératif du perceptron sur le dataset donné.\n",
    "            Arguments:\n",
    "                - desc_set: ndarray avec des descriptions\n",
    "                - label_set: ndarray avec les labels correspondants\n",
    "                - nb_max (par défaut: 100) : nombre d'itérations maximale\n",
    "                - seuil (par défaut: 0.001) : seuil de convergence\n",
    "            Retour: la fonction rend une liste\n",
    "                - liste des valeurs de norme de différences\n",
    "        \"\"\"\n",
    "        diff_norms = []\n",
    "        for n in range(nb_max):\n",
    "            w_before = np.copy(self.w)\n",
    "            self.train_step(desc_set, label_set)\n",
    "            diff_norm = np.linalg.norm(self.w - w_before)\n",
    "            diff_norms.append(diff_norm)\n",
    "            if diff_norm < seuil:\n",
    "                break\n",
    "        return diff_norms\n",
    "\n",
    "    def score(self,x):\n",
    "        \"\"\" rend le score de prédiction sur x (valeur réelle)\n",
    "            x: une description\n",
    "        \"\"\"\n",
    "        return np.dot(self.w, x)\n",
    "\n",
    "    def predict(self, x):\n",
    "        \"\"\" rend la prediction sur x (soit -1 ou soit +1)\n",
    "            x: une description\n",
    "        \"\"\"\n",
    "        if self.score(x) > 0:\n",
    "            return 1\n",
    "        else:\n",
    "            return -1\n"
   ]
  },
  {
   "cell_type": "markdown",
   "metadata": {},
   "source": [
    "## Validation de l'algorithme\n",
    "\n",
    "<font color=\"RED\" size=\"+1\">**[Q]**</font>  Afin de vérifier le bon fonctionnement de l'algorithme, nous allons procéder à plusieurs tests:\n",
    "\n",
    "1. Expérimentation avec les gaussiennes jouets définies dans le TME 2\n",
    "    1. Vérifier l'impact du réglage de l'initialisation (normalement, il n'y a pas trop d'impact sur un problème aussi simple)\n",
    "    1. Vérifier l'impact du réglage de epsilon (impact énorme: ca diverge très rapidement!!)\n",
    "    1. En jouant sur la génération des données, tester votre perceptron dans le cas facile (nuages des deux classes bien séparés) puis dans le cas plus difficile où les classes ne sont plus séparables linéairement.\n",
    "\n",
    "1. Expérimentation avec les données USPS (cf. TME 2)\n",
    "    1. Nous travaillerons uniquement dans le cas binaire. Prendre les 1 vs 2 (cas facile) puis les 3 vs 6 ou 9 (cas nettement plus dur)\n",
    "    \n",
    "1. Penser à faire le parallèle avec le temps pour prédire avec les k-ppv de la semaine précédente\n",
    "    \n",
    "**Note:** il faut évidemment multiplier les boites et ne pas tout faire au même endroit."
   ]
  },
  {
   "cell_type": "markdown",
   "metadata": {},
   "source": [
    "### Test sur des gaussiennes jouets"
   ]
  },
  {
   "cell_type": "markdown",
   "metadata": {},
   "source": [
    "#### Apprentissage pas à pas et variation d'accuracy"
   ]
  },
  {
   "cell_type": "code",
   "execution_count": 12,
   "metadata": {},
   "outputs": [
    {
     "data": {
      "image/png": "[encoded data removed]",
      "text/plain": [
       "<Figure size 432x288 with 1 Axes>"
      ]
     },
     "metadata": {
      "needs_background": "light"
     },
     "output_type": "display_data"
    },
    {
     "data": {
      "image/png": "[encoded data removed]",
      "text/plain": [
       "<Figure size 432x288 with 1 Axes>"
      ]
     },
     "metadata": {
      "needs_background": "light"
     },
     "output_type": "display_data"
    },
    {
     "name": "stdout",
     "output_type": "stream",
     "text": [
      "Accuracy finale (train):  0.9333333333333333\n",
      "Accuracy finale (test) :  0.9333333333333333\n"
     ]
    }
   ],
   "source": [
    "np.random.seed(42)   # on prend 42 comme graine pour tester\n",
    "\n",
    "# Création d'un perceptron avec initialisation à 0 et le learning_rate ci-dessous:\n",
    "learning_rate = 0.01\n",
    "perceptron1 = ClassifierPerceptron(input_dimension=2, learning_rate=learning_rate, init=True)\n",
    "\n",
    "# Définition des données d'apprentissage (on reprend les données data_gauss générées plus haut)\n",
    "random.seed(42)\n",
    "(train_desc, train_label), (test_desc, test_label) = genere_train_test(data_gauss_desc, data_gauss_label,75,75)\n",
    "\n",
    "data_train = train_desc\n",
    "label_train = train_label\n",
    "data_test = test_desc\n",
    "label_test = test_label\n",
    "\n",
    "# Apprentissage pas à pas du perceptron et mémorisation de l'accuracy à chaque étape:\n",
    "# Listes qui vont servir à mémoriser les accuracy du perceptron à chaque étape:\n",
    "train_acc = []\n",
    "test_acc = []\n",
    "\n",
    "# Réalisation de N itérations\n",
    "N = 100\n",
    "for i in range(N):\n",
    "    perceptron1.train_step(data_train, label_train)\n",
    "    train_acc.append(perceptron1.accuracy(data_train, label_train))\n",
    "    perceptron1.train_step(data_test, label_test)\n",
    "    test_acc.append(perceptron1.accuracy(data_test, label_test))\n",
    "\n",
    "# Traçage de la courbe des variations d'accuracy\n",
    "plt.plot(range(0,N),train_acc,label=\"Train\", color = 'blue')\n",
    "plt.plot(range(0,N),test_acc,label=\"Test\", color='red')\n",
    "plt.ylabel('Accuracy')\n",
    "plt.xlabel(\"Etape\")\n",
    "plt.legend()\n",
    "plt.show()\n",
    "\n",
    "# Affichage de la frontière de séparation des classes (en prenant tous les exemples de la base)\n",
    "plot_frontiere(data_gauss_desc,data_gauss_label,perceptron1,step=150)\n",
    "plot2DSet(data_gauss_desc,data_gauss_label)\n",
    "\n",
    "print(\"Accuracy finale (train): \", perceptron1.accuracy(data_train, label_train))\n",
    "print(\"Accuracy finale (test) : \", perceptron1.accuracy(data_test, label_test))\n",
    "\n"
   ]
  },
  {
   "cell_type": "code",
   "execution_count": null,
   "metadata": {},
   "outputs": [],
   "source": []
  },
  {
   "cell_type": "markdown",
   "metadata": {},
   "source": [
    "### Apprentissage et affichage de la convergence"
   ]
  },
  {
   "cell_type": "code",
   "execution_count": 13,
   "metadata": {},
   "outputs": [
    {
     "name": "stdout",
     "output_type": "stream",
     "text": [
      "Nb iterations réalisées:  33\n"
     ]
    },
    {
     "data": {
      "image/png": "[encoded data removed]",
      "text/plain": [
       "<Figure size 432x288 with 1 Axes>"
      ]
     },
     "metadata": {
      "needs_background": "light"
     },
     "output_type": "display_data"
    },
    {
     "name": "stdout",
     "output_type": "stream",
     "text": [
      "Accuracy finale (train):  0.9466666666666667\n",
      "Accuracy finale (test) :  0.9466666666666667\n"
     ]
    }
   ],
   "source": [
    "np.random.seed(42)   # on prend 42 comme graine\n",
    "\n",
    "# Création d'un perceptron avec initialisation à 0 et le learning_rate ci-dessous:\n",
    "learning_rate = 0.01\n",
    "perceptron2 = ClassifierPerceptron(input_dimension=2, learning_rate=learning_rate, init=False)\n",
    "\n",
    "# Définition des données d'apprentissage (on reprend les données data_gauss générées plus haut)\n",
    "random.seed(42) \n",
    "(train_desc, train_label), (test_desc, test_label) = genere_train_test(data_gauss_desc, data_gauss_label,75,75)\n",
    "\n",
    "data_train = train_desc\n",
    "label_train = train_label\n",
    "data_test = test_desc\n",
    "label_test = test_label\n",
    "\n",
    "# Apprentissage du perceptron jusqu'à convergence\n",
    "les_variations = perceptron2.train(data_train, label_train, nb_max=33, seuil=1e-6)\n",
    "print(\"Nb iterations réalisées: \", len(les_variations))\n",
    "\n",
    "# Traçage de la courbe des variations\n",
    "plt.plot(range(1,len(les_variations)+1),les_variations)  \n",
    "plt.ylabel('Différence')\n",
    "plt.xlabel(\"Etape\")\n",
    "plt.show()\n",
    "\n",
    "\n",
    "print(\"Accuracy finale (train): \", perceptron2.accuracy(data_train, label_train))\n",
    "print(\"Accuracy finale (test) : \", perceptron2.accuracy(data_test, label_test))"
   ]
  },
  {
   "cell_type": "code",
   "execution_count": null,
   "metadata": {},
   "outputs": [],
   "source": []
  },
  {
   "cell_type": "markdown",
   "metadata": {},
   "source": [
    "### Initialisation aléatoire et convergence"
   ]
  },
  {
   "cell_type": "code",
   "execution_count": 14,
   "metadata": {},
   "outputs": [
    {
     "name": "stdout",
     "output_type": "stream",
     "text": [
      "Nb iterations:  100\n"
     ]
    },
    {
     "data": {
      "image/png": "[encoded data removed]",
      "text/plain": [
       "<Figure size 432x288 with 1 Axes>"
      ]
     },
     "metadata": {
      "needs_background": "light"
     },
     "output_type": "display_data"
    },
    {
     "name": "stdout",
     "output_type": "stream",
     "text": [
      "Accuracy finale (train):  0.92\n",
      "Accuracy finale (test) :  0.92\n"
     ]
    }
   ],
   "source": [
    "# ------------------------ COMPLETER LES INSTRUCTIONS DANS CETTE BOITE \n",
    "\n",
    "np.random.seed(42)   # on prend 42 comme graine\n",
    "\n",
    "# Création d'un perceptron avec initialisation aléatoire et le learning_rate ci-dessous:\n",
    "learning_rate = 0.01\n",
    "perceptron3 = ClassifierPerceptron(input_dimension=2, learning_rate=learning_rate, init=False)\n",
    "\n",
    "# Définition des données d'apprentissage (on reprend les données data_gauss générées plus haut)\n",
    "random.seed(42)\n",
    "(train_desc, train_label), (test_desc, test_label) = genere_train_test(data_gauss_desc, data_gauss_label,75,75)\n",
    "\n",
    "data_train = train_desc\n",
    "label_train = train_label\n",
    "data_test = test_desc\n",
    "label_test = test_label\n",
    "\n",
    "# Apprentissage du perceptron\n",
    "les_variations = perceptron3.train(data_train, label_train, nb_max=100, seuil=0.001)\n",
    "print(\"Nb iterations: \", len(les_variations))\n",
    "\n",
    "# Traçage de la courbe des variations\n",
    "plt.plot(range(1,len(les_variations)+1),les_variations)\n",
    "plt.ylabel('Différence')\n",
    "plt.xlabel(\"Etape\")\n",
    "plt.show()\n",
    "\n",
    "print(\"Accuracy finale (train): \", perceptron3.accuracy(data_train, label_train))\n",
    "print(\"Accuracy finale (test) : \", perceptron3.accuracy(data_test, label_test))\n"
   ]
  },
  {
   "cell_type": "code",
   "execution_count": null,
   "metadata": {},
   "outputs": [],
   "source": []
  },
  {
   "cell_type": "markdown",
   "metadata": {},
   "source": [
    "### Impact du learning rate\n",
    "\n",
    "<font color=\"RED\" size=\"+1\">[Q]</font> Tester différentes valeurs de learning rate et regarder les résultats en termes de convergence.\n",
    "\n",
    "Par exemple, que se passe-t-il quand le learning rate est mis à 0.1?"
   ]
  },
  {
   "cell_type": "code",
   "execution_count": 15,
   "metadata": {},
   "outputs": [
    {
     "name": "stdout",
     "output_type": "stream",
     "text": [
      "Nb iterations:  1000\n"
     ]
    },
    {
     "data": {
      "image/png": "[encoded data removed]",
      "text/plain": [
       "<Figure size 432x288 with 1 Axes>"
      ]
     },
     "metadata": {
      "needs_background": "light"
     },
     "output_type": "display_data"
    },
    {
     "name": "stdout",
     "output_type": "stream",
     "text": [
      "Accuracy finale (train):  0.96\n",
      "Accuracy finale (test) :  0.96\n"
     ]
    }
   ],
   "source": [
    "# Par exemple : \n",
    "\n",
    "# ------------------------ COMPLETER LES INSTRUCTIONS DANS CETTE BOITE \n",
    "\n",
    "np.random.seed(42)   # on prend 42 comme graine\n",
    "learning_rate = 0.1\n",
    "\n",
    "perceptron3 = ClassifierPerceptron(input_dimension=2, learning_rate=learning_rate, init=False)\n",
    "\n",
    "# Définition des données d'apprentissage (on reprend les données data_gauss générées plus haut)\n",
    "random.seed(42) \n",
    "(train_desc, train_label), (test_desc, test_label) = genere_train_test(data_gauss_desc, data_gauss_label,75,75)\n",
    "\n",
    "data_train = train_desc\n",
    "label_train = train_label\n",
    "data_test = test_desc\n",
    "label_test = test_label\n",
    "\n",
    "# Création d'un perceptron avec initialisation aléatoire et le learning_rate ci-dessous:\n",
    "\n",
    "\n",
    "# Apprentissage du perceptron\n",
    "les_variations = perceptron3.train(data_train, label_train, nb_max=1000, seuil=0.000001)\n",
    "print(\"Nb iterations: \", len(les_variations))\n",
    "\n",
    "# Traçage de la courbe des variations\n",
    "plt.plot(range(1,len(les_variations)+1),les_variations)\n",
    "plt.ylabel('Différence')\n",
    "plt.xlabel(\"Etape\")\n",
    "plt.show()\n",
    "\n",
    "print(\"Accuracy finale (train): \", perceptron3.accuracy(data_train, label_train))\n",
    "print(\"Accuracy finale (test) : \", perceptron3.accuracy(data_test, label_test))\n",
    "\n"
   ]
  },
  {
   "cell_type": "code",
   "execution_count": null,
   "metadata": {},
   "outputs": [],
   "source": []
  },
  {
   "cell_type": "markdown",
   "metadata": {},
   "source": [
    "<font color=\"RED\" size=\"+1\">[Q]</font> Quand le learning rate est mis à 0.01, en utilisant le paramètre `nb_max`, trouver combien d'itérations sont nécessaires pour que l'algorithme converge."
   ]
  },
  {
   "cell_type": "code",
   "execution_count": 16,
   "metadata": {},
   "outputs": [
    {
     "name": "stdout",
     "output_type": "stream",
     "text": [
      "Le nombre d'itérations nécessaires pour converger est de 5\n"
     ]
    }
   ],
   "source": [
    "np.random.seed(42)\n",
    "\n",
    "# Définition des données d'apprentissage\n",
    "positive_center = [1, 1]\n",
    "positive_sigma = [[0.5, 0], [0, 0.5]]\n",
    "negative_center = [-1, -1]\n",
    "negative_sigma = [[0.5, 0], [0, 0.5]]\n",
    "nb_points = 100\n",
    "\n",
    "# Création d'un classifieur Perceptron avec un learning rate de 0.01\n",
    "perceptron = ClassifierPerceptron(input_dimension=2, learning_rate=0.01, init=False)\n",
    "\n",
    "# Génération des données d'apprentissage\n",
    "data_train, label_train = genere_dataset_gaussian(positive_center, positive_sigma, negative_center, negative_sigma, nb_points)\n",
    "\n",
    "# Entraînement du classifieur sur les données d'apprentissage\n",
    "nb_max = 1000\n",
    "seuil = 0.001\n",
    "diff_norms = perceptron.train(data_train, label_train, nb_max=nb_max, seuil=seuil)\n",
    "\n",
    "# Affichage du nombre d'itérations nécessaires pour converger\n",
    "print(f\"Le nombre d'itérations nécessaires pour converger est de {len(diff_norms)}\")\n"
   ]
  },
  {
   "cell_type": "code",
   "execution_count": null,
   "metadata": {},
   "outputs": [],
   "source": []
  },
  {
   "cell_type": "markdown",
   "metadata": {},
   "source": [
    "## Cas difficiles"
   ]
  },
  {
   "cell_type": "markdown",
   "metadata": {},
   "source": [
    "<font color=\"RED\" size=\"+1\">[Q]</font> Afin de tester des cas plus difficiles (c'est-à-dire non séparables linéairement), écrire la fonction `createXOR` qui permet de générer le jeu de données ci-dessous. Cette fonction prend 2 arguments, un nombre de points $n$ et un réel positif $\\sigma$ donnant la variance sur chaque dimension et permet de jouer sur la dispersion des nuages et donc sur la séparation des 4 nuages.\n",
    "\n",
    "Il s'agit de générer des points dans deux classes mais selon 4 gaussiennes.\n",
    "\n",
    "<img src=\"xor.png\" width=300px>\n",
    "\n"
   ]
  },
  {
   "cell_type": "code",
   "execution_count": 17,
   "metadata": {},
   "outputs": [],
   "source": [
    "import numpy as np\n",
    "\n",
    "def create_XOR(n, var):\n",
    "    \"\"\" int * float -> tuple[ndarray, ndarray]\n",
    "        Hyp: n et var sont positifs\n",
    "        n: nombre de points voulus\n",
    "        var: variance sur chaque dimension\n",
    "    \"\"\"\n",
    "    # Nombre de points à générer pour chaque classe\n",
    "    n_per_class = n // 4\n",
    "\n",
    "    # Génération de points pour la première classe\n",
    "    X1 = np.random.normal(1, var, size=(n_per_class, 2))\n",
    "    y1 = np.ones(n_per_class)\n",
    "\n",
    "    # Génération de points pour la deuxième classe\n",
    "    X2 = np.random.normal(-1, var, size=(n_per_class, 2))\n",
    "    y2 = -np.ones(n_per_class)\n",
    "\n",
    "    # Génération de points pour la troisième classe\n",
    "    X3 = np.random.normal((1, -1), var, size=(n_per_class, 2))\n",
    "    y3 = np.ones(n_per_class)\n",
    "\n",
    "    # Génération de points pour la quatrième classe\n",
    "    X4 = np.random.normal((-1, 1), var, size=(n_per_class, 2))\n",
    "    y4 = -np.ones(n_per_class)\n",
    "\n",
    "    # Concaténation des données et des labels\n",
    "    X = np.concatenate([X1, X2, X3, X4], axis=0)\n",
    "    y = np.concatenate([y1, y2, y3, y4], axis=0)\n",
    "\n",
    "    # Permutation aléatoire des données\n",
    "    perm = np.random.permutation(n)\n",
    "    X = X[perm]\n",
    "    y = y[perm]\n",
    "\n",
    "    return X, y\n"
   ]
  },
  {
   "cell_type": "code",
   "execution_count": 18,
   "metadata": {},
   "outputs": [
    {
     "data": {
      "image/png": "[encoded data removed]",
      "text/plain": [
       "<Figure size 432x288 with 1 Axes>"
      ]
     },
     "metadata": {
      "needs_background": "light"
     },
     "output_type": "display_data"
    }
   ],
   "source": [
    "# une fois le fichier d'outils mis à jour, vous devez pouvoir faire:\n",
    "\n",
    "np.random.seed(42)   # on prend 42 comme graine\n",
    "\n",
    "# Génération d'un dataset avec 80 points:\n",
    "data_xor, label_xor = create_XOR(20,0.01)\n",
    "plot2DSet(data_xor, label_xor)"
   ]
  },
  {
   "cell_type": "markdown",
   "metadata": {},
   "source": [
    "<font color=\"RED\" size=\"+1\">[Q]</font> Appliquer l'algorithme du perceptron sur ces données et constater (avec quelques affichages de performances et tracés de frontières de décision) que ça ne marche pas!"
   ]
  },
  {
   "cell_type": "code",
   "execution_count": 19,
   "metadata": {},
   "outputs": [
    {
     "data": {
      "image/png": "[encoded data removed]",
      "text/plain": [
       "<Figure size 432x288 with 1 Axes>"
      ]
     },
     "metadata": {
      "needs_background": "light"
     },
     "output_type": "display_data"
    },
    {
     "name": "stdout",
     "output_type": "stream",
     "text": [
      "Précision sur les données d'entrainement: 100.00%\n"
     ]
    },
    {
     "ename": "AttributeError",
     "evalue": "'function' object has no attribute 'predict'",
     "output_type": "error",
     "traceback": [
      "\u001b[0;31m---------------------------------------------------------------------------\u001b[0m",
      "\u001b[0;31mAttributeError\u001b[0m                            Traceback (most recent call last)",
      "Input \u001b[0;32mIn [19]\u001b[0m, in \u001b[0;36m<cell line: 37>\u001b[0;34m()\u001b[0m\n\u001b[1;32m     34\u001b[0m     plt\u001b[38;5;241m.\u001b[39mcontourf(xx, yy, z, cmap\u001b[38;5;241m=\u001b[39m\u001b[38;5;124m'\u001b[39m\u001b[38;5;124mbwr\u001b[39m\u001b[38;5;124m'\u001b[39m, alpha\u001b[38;5;241m=\u001b[39m\u001b[38;5;241m0.5\u001b[39m)\n\u001b[1;32m     36\u001b[0m \u001b[38;5;66;03m# Tracé de la frontière de décision\u001b[39;00m\n\u001b[0;32m---> 37\u001b[0m plot_frontiere_xor(data_xor, perceptron_xor\u001b[38;5;241m.\u001b[39mpredict)\n\u001b[1;32m     38\u001b[0m plt\u001b[38;5;241m.\u001b[39mscatter(data_xor[:,\u001b[38;5;241m0\u001b[39m], data_xor[:,\u001b[38;5;241m1\u001b[39m], c\u001b[38;5;241m=\u001b[39mlabel_xor, cmap\u001b[38;5;241m=\u001b[39m\u001b[38;5;124m'\u001b[39m\u001b[38;5;124mbwr\u001b[39m\u001b[38;5;124m'\u001b[39m)\n\u001b[1;32m     39\u001b[0m plt\u001b[38;5;241m.\u001b[39mshow()\n",
      "Input \u001b[0;32mIn [19]\u001b[0m, in \u001b[0;36mplot_frontiere_xor\u001b[0;34m(data, classifier)\u001b[0m\n\u001b[1;32m     31\u001b[0m xx, yy \u001b[38;5;241m=\u001b[39m np\u001b[38;5;241m.\u001b[39mmeshgrid(np\u001b[38;5;241m.\u001b[39marange(xmin, xmax, \u001b[38;5;241m0.1\u001b[39m), np\u001b[38;5;241m.\u001b[39marange(ymin, ymax, \u001b[38;5;241m0.1\u001b[39m))\n\u001b[1;32m     32\u001b[0m grid \u001b[38;5;241m=\u001b[39m np\u001b[38;5;241m.\u001b[39mc_[xx\u001b[38;5;241m.\u001b[39mravel(), yy\u001b[38;5;241m.\u001b[39mravel()]\u001b[38;5;241m.\u001b[39mT  \u001b[38;5;66;03m# On transpose grid\u001b[39;00m\n\u001b[0;32m---> 33\u001b[0m z \u001b[38;5;241m=\u001b[39m \u001b[43mclassifier\u001b[49m\u001b[38;5;241;43m.\u001b[39;49m\u001b[43mpredict\u001b[49m(grid)\u001b[38;5;241m.\u001b[39mreshape(xx\u001b[38;5;241m.\u001b[39mshape)\n\u001b[1;32m     34\u001b[0m plt\u001b[38;5;241m.\u001b[39mcontourf(xx, yy, z, cmap\u001b[38;5;241m=\u001b[39m\u001b[38;5;124m'\u001b[39m\u001b[38;5;124mbwr\u001b[39m\u001b[38;5;124m'\u001b[39m, alpha\u001b[38;5;241m=\u001b[39m\u001b[38;5;241m0.5\u001b[39m)\n",
      "\u001b[0;31mAttributeError\u001b[0m: 'function' object has no attribute 'predict'"
     ]
    }
   ],
   "source": [
    "np.random.seed(42)   # on prend 42 comme graine\n",
    "\n",
    "# Création d'un perceptron\n",
    "perceptron_xor = ClassifierPerceptron(2,0.01,False)\n",
    "# Génération des données\n",
    "data_xor, label_xor = create_XOR(400, 0.1)\n",
    "\n",
    "# Affichage des données\n",
    "plt.scatter(data_xor[:,0], data_xor[:,1], c=label_xor, cmap='bwr')\n",
    "plt.show()\n",
    "\n",
    "# Création d'un perceptron\n",
    "perceptron_xor = ClassifierPerceptron(2,0.01,False)\n",
    "\n",
    "# Entrainement du perceptron\n",
    "perceptron_xor.train(data_xor, label_xor,nb_max=100,seuil=0.1)\n",
    "\n",
    "# Calcul de la précision sur les données d'entrainement\n",
    "acc_train_xor = perceptron_xor.accuracy(data_xor, label_xor)\n",
    "print(\"Précision sur les données d'entrainement: {:.2f}%\".format(acc_train_xor * 100))\n",
    "\n",
    "# Tracé de la frontière de décision\n",
    "# Tracé de la frontière de décision\n",
    "def plot_frontiere_xor(data, classifier):\n",
    "    \"\"\" ndarray * classifier -> None\n",
    "        data: ensemble de données en 2D\n",
    "        classifier: une instance de Classifier\n",
    "    \"\"\"\n",
    "    xmin, ymin = np.min(data, axis=0) - 0.5\n",
    "    xmax, ymax = np.max(data, axis=0) + 0.5\n",
    "    xx, yy = np.meshgrid(np.arange(xmin, xmax, 0.1), np.arange(ymin, ymax, 0.1))\n",
    "    grid = np.c_[xx.ravel(), yy.ravel()].T  # On transpose grid\n",
    "    z = classifier.predict(grid).reshape(xx.shape)\n",
    "    plt.contourf(xx, yy, z, cmap='bwr', alpha=0.5)\n",
    "\n",
    "# Tracé de la frontière de décision\n",
    "plot_frontiere_xor(data_xor, perceptron_xor.predict)\n",
    "plt.scatter(data_xor[:,0], data_xor[:,1], c=label_xor, cmap='bwr')\n",
    "plt.show()\n",
    "\n",
    "\n",
    "\n",
    "\n",
    "\n"
   ]
  },
  {
   "cell_type": "markdown",
   "metadata": {},
   "source": [
    "## Expérimentations\n",
    "\n",
    "Compléter ce notebook par des expérimentations sur le Perceptron, par exemple :\n",
    "1. Test sur les données USPS (cf. TME 2)\n",
    "    1. Pour réduire la place disque prise par la base USPS, commenc\n",
    "    1. Nous travaillerons uniquement dans le cas binaire. Prendre les 1 vs 2 (cas facile) puis les 3 vs 6 ou 9 (cas nettement plus dur)\n",
    "    \n",
    "1. Faire le parallèle avec le temps d'inférence sur les k-ppv de la semaine précédente\n"
   ]
  },
  {
   "cell_type": "code",
   "execution_count": null,
   "metadata": {},
   "outputs": [],
   "source": []
  }
 ],
 "metadata": {
  "kernelspec": {
   "display_name": "Python 3 (ipykernel)",
   "language": "python",
   "name": "python3"
  },
  "language_info": {
   "codemirror_mode": {
    "name": "ipython",
    "version": 3
   },
   "file_extension": ".py",
   "mimetype": "text/x-python",
   "name": "python",
   "nbconvert_exporter": "python",
   "pygments_lexer": "ipython3",
   "version": "3.10.11"
  }
 },
 "nbformat": 4,
 "nbformat_minor": 1
}
